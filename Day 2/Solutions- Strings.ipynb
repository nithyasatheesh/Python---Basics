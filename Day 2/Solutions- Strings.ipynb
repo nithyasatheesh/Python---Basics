{
 "cells": [
  {
   "cell_type": "code",
   "execution_count": null,
   "id": "7ab7c261",
   "metadata": {},
   "outputs": [],
   "source": [
    "### string operations"
   ]
  },
  {
   "cell_type": "raw",
   "id": "c2f0873b",
   "metadata": {},
   "source": [
    "Write a Python program to calculate the length of a string\n",
    "Source Code\n",
    "\"\"\"\n",
    "#First Method\n",
    "str = \"Tutor Joes\"\n",
    "print(\"Length of String :\",len(str))\n",
    "\"\"\"\n",
    "#Second Method\n",
    "str = \"Tutor Joes\"\n",
    "tot = 0\n",
    "for c in str:\n",
    "\ttot += 1\n",
    "print(\"Length of String :\",tot)"
   ]
  },
  {
   "cell_type": "raw",
   "id": "ad1cb841",
   "metadata": {},
   "source": [
    "By using first, second and last characters of the string, create a new string.\n",
    "\n",
    "str=\"It's always darkest before dawn.\"\n",
    "\n",
    "#Type your answer here.\n",
    "\n",
    "ans_1=str[0:2]+str[-1]\n",
    "\n",
    "print(ans_1)"
   ]
  },
  {
   "cell_type": "raw",
   "id": "9b31a7da",
   "metadata": {},
   "source": [
    "Reassign str so that, all its characters are lowercase.\n",
    "\n",
    "str=\"EVERY Strike Brings Me Closer to the Next Home run.\"\n",
    "# Type your code here.\n",
    "str=str.lower()\n",
    "\n",
    "\n",
    "\n",
    "\n",
    "print(str)\n"
   ]
  },
  {
   "cell_type": "raw",
   "id": "89724f71",
   "metadata": {},
   "source": [
    "Replace the (.) with (!)\n",
    "\n",
    "str=\"It's always darkest before dawn.\"\n",
    "\n",
    "#Type your code here.\n",
    "str=str.replace('.','!')\n",
    "\n",
    "\n",
    "print(str)"
   ]
  },
  {
   "cell_type": "raw",
   "id": "89e77f7e",
   "metadata": {},
   "source": [
    "Make the string so that everything is properly and first letter is capital with one function.\n",
    "\n",
    "str=\"there are no traffic JamS Along The extra mile.\"\n",
    "\n",
    "#Type your answer here.\n",
    "\n",
    "str=str.capitalize()\n",
    "\n",
    "\n",
    "print(str)"
   ]
  },
  {
   "cell_type": "raw",
   "id": "5d0d64ef",
   "metadata": {},
   "source": [
    "Does the string start with an A?\n",
    "\n",
    "str=\"There are no traffic jams along the extra mile.\"\n",
    "#  Type your code here.\n",
    "\n",
    "ans_1=str.startswith(\"A\")\n",
    "\n",
    "\n",
    "print(ans_1)"
   ]
  },
  {
   "cell_type": "raw",
   "id": "46b6c2bf",
   "metadata": {},
   "source": [
    "Which character occur more often in the string? \"a\" or \"o\" ? Print both counts inside the print function.\n",
    "\n",
    "str=\"People often say that motivation doesn't last. Well, neither does bathing.  That's why we recommend it daily.\"\n",
    "#  Type your code here.\n",
    "\n",
    "ans_1=str.count('a')\n",
    "\n",
    "ans_2=str.count('o')\n",
    "\n",
    "\n",
    "print(\"count of a is: \", ans_1, \" count of o is: \", ans_2)\n"
   ]
  },
  {
   "cell_type": "raw",
   "id": "8a24b137",
   "metadata": {},
   "source": []
  },
  {
   "cell_type": "code",
   "execution_count": null,
   "id": "2f20ae3b",
   "metadata": {},
   "outputs": [],
   "source": []
  }
 ],
 "metadata": {
  "kernelspec": {
   "display_name": "Python 3 (ipykernel)",
   "language": "python",
   "name": "python3"
  },
  "language_info": {
   "codemirror_mode": {
    "name": "ipython",
    "version": 3
   },
   "file_extension": ".py",
   "mimetype": "text/x-python",
   "name": "python",
   "nbconvert_exporter": "python",
   "pygments_lexer": "ipython3",
   "version": "3.9.13"
  }
 },
 "nbformat": 4,
 "nbformat_minor": 5
}
