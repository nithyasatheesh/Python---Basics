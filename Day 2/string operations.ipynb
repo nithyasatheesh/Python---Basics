{
 "cells": [
  {
   "cell_type": "markdown",
   "id": "f10429d1",
   "metadata": {},
   "source": [
    "### Strings : operations & slicing"
   ]
  },
  {
   "cell_type": "code",
   "execution_count": null,
   "id": "98b12d01",
   "metadata": {},
   "outputs": [],
   "source": [
    "# Iterable: ability to do index and write for loop on that object"
   ]
  },
  {
   "cell_type": "markdown",
   "id": "dd021f3e",
   "metadata": {},
   "source": [
    "#### indexing & Slicing"
   ]
  },
  {
   "cell_type": "code",
   "execution_count": null,
   "id": "32f990d4",
   "metadata": {},
   "outputs": [],
   "source": [
    "new='Saturday'"
   ]
  },
  {
   "cell_type": "code",
   "execution_count": null,
   "id": "68f70ef8",
   "metadata": {},
   "outputs": [],
   "source": [
    "# extract 't' --> new\n",
    "# Python index starts from 0.\n"
   ]
  },
  {
   "cell_type": "code",
   "execution_count": null,
   "id": "ac370f30",
   "metadata": {},
   "outputs": [],
   "source": [
    "# extract 'u'\n"
   ]
  },
  {
   "cell_type": "code",
   "execution_count": null,
   "id": "55a06f81",
   "metadata": {},
   "outputs": [],
   "source": [
    "# extract 'u' to 'a'\n",
    "  # [start:end]end is exclusive\n"
   ]
  },
  {
   "cell_type": "code",
   "execution_count": null,
   "id": "b8916ba5",
   "metadata": {},
   "outputs": [],
   "source": [
    "# Extract 1 to 3rd position elements using :\n",
    "# starts at 1 end with 3rd position\n"
   ]
  },
  {
   "cell_type": "code",
   "execution_count": null,
   "id": "2d15f79b",
   "metadata": {},
   "outputs": [],
   "source": []
  },
  {
   "cell_type": "code",
   "execution_count": null,
   "id": "ef5e5436",
   "metadata": {},
   "outputs": [],
   "source": [
    "# display all the elements using :\n"
   ]
  },
  {
   "cell_type": "code",
   "execution_count": null,
   "id": "89c1f7eb",
   "metadata": {},
   "outputs": [],
   "source": [
    "# negative indexing"
   ]
  },
  {
   "cell_type": "code",
   "execution_count": null,
   "id": "d64a9bbb",
   "metadata": {},
   "outputs": [],
   "source": []
  },
  {
   "cell_type": "code",
   "execution_count": null,
   "id": "f734152b",
   "metadata": {},
   "outputs": [],
   "source": [
    "# Extract odd position elements\n",
    "# [start:end:step]"
   ]
  },
  {
   "cell_type": "code",
   "execution_count": null,
   "id": "33e25b34",
   "metadata": {},
   "outputs": [],
   "source": [
    "\n"
   ]
  },
  {
   "cell_type": "code",
   "execution_count": null,
   "id": "185d418e",
   "metadata": {},
   "outputs": [],
   "source": []
  },
  {
   "cell_type": "code",
   "execution_count": null,
   "id": "cd81b1ef",
   "metadata": {},
   "outputs": [],
   "source": []
  },
  {
   "cell_type": "code",
   "execution_count": null,
   "id": "ad2873ce",
   "metadata": {},
   "outputs": [],
   "source": [
    "# # Extract odd posiiton elements in the reverse order\n"
   ]
  },
  {
   "cell_type": "code",
   "execution_count": null,
   "id": "8e5340d4",
   "metadata": {},
   "outputs": [],
   "source": [
    "# strings are immutable\n",
    "# Cannot do changes on a created string object.\n",
    "first=\"welcome\"\n",
    "second=\"to the country\""
   ]
  },
  {
   "cell_type": "code",
   "execution_count": null,
   "id": "195d4dc9",
   "metadata": {},
   "outputs": [],
   "source": [
    "# change first letter 'w' into 'S'\n"
   ]
  },
  {
   "cell_type": "code",
   "execution_count": null,
   "id": "d3c9785d",
   "metadata": {},
   "outputs": [],
   "source": [
    "# change 3rd position element in the 'first' string object using '+'\n",
    "# change 'l' into 'm'\n"
   ]
  },
  {
   "cell_type": "code",
   "execution_count": null,
   "id": "42f4fd9c",
   "metadata": {},
   "outputs": [],
   "source": []
  },
  {
   "cell_type": "code",
   "execution_count": null,
   "id": "58495f2e",
   "metadata": {},
   "outputs": [],
   "source": [
    "#add value 7 to the string object 'second'\n"
   ]
  },
  {
   "cell_type": "code",
   "execution_count": null,
   "id": "e384396b",
   "metadata": {},
   "outputs": [],
   "source": [
    "# add value 6 to the string object 'second ' at 4th position\n"
   ]
  },
  {
   "cell_type": "code",
   "execution_count": null,
   "id": "5b43f165",
   "metadata": {},
   "outputs": [],
   "source": [
    "# display the element of 'first' object 3 times\n"
   ]
  },
  {
   "cell_type": "code",
   "execution_count": null,
   "id": "6d0bc282",
   "metadata": {},
   "outputs": [],
   "source": [
    "# Add two string objects using '+'"
   ]
  },
  {
   "cell_type": "code",
   "execution_count": null,
   "id": "930c4aef",
   "metadata": {},
   "outputs": [],
   "source": []
  },
  {
   "cell_type": "code",
   "execution_count": null,
   "id": "36909d30",
   "metadata": {},
   "outputs": [],
   "source": []
  },
  {
   "cell_type": "markdown",
   "id": "1595b870",
   "metadata": {},
   "source": [
    "### Hands -on-Exercise"
   ]
  },
  {
   "cell_type": "code",
   "execution_count": null,
   "id": "ae349455",
   "metadata": {},
   "outputs": [],
   "source": [
    "# create a string object str1=\"Welcome to our country\"\n",
    "str1=\"Welcome to our country\""
   ]
  },
  {
   "cell_type": "code",
   "execution_count": null,
   "id": "84cc8037",
   "metadata": {},
   "outputs": [],
   "source": [
    "# Extract the word 'country' from the given string 'str1'\n"
   ]
  },
  {
   "cell_type": "code",
   "execution_count": null,
   "id": "432a3013",
   "metadata": {},
   "outputs": [],
   "source": [
    "# Extract the even index elements in the string 'str1'\n"
   ]
  },
  {
   "cell_type": "code",
   "execution_count": null,
   "id": "8aac4700",
   "metadata": {},
   "outputs": [],
   "source": [
    "# add value 6 in the 3rd index of the string object str1\n"
   ]
  },
  {
   "cell_type": "code",
   "execution_count": null,
   "id": "3d2859da",
   "metadata": {},
   "outputs": [],
   "source": [
    "# Write a Python program to calculate the length of a string 'str1'"
   ]
  },
  {
   "cell_type": "code",
   "execution_count": null,
   "id": "4a5ed833",
   "metadata": {},
   "outputs": [],
   "source": [
    "# By using first, second and last characters of the string, create a new string 'ans_1'.\n",
    "\n",
    "s=\"It's always darkest before dawn.\""
   ]
  },
  {
   "cell_type": "code",
   "execution_count": null,
   "id": "c3f9f280",
   "metadata": {},
   "outputs": [],
   "source": [
    "# Reassign string 's' so that, all its characters are lowercase."
   ]
  },
  {
   "cell_type": "code",
   "execution_count": null,
   "id": "68f9119a",
   "metadata": {},
   "outputs": [],
   "source": [
    "# Replace the (.) with (!)\n",
    "\n",
    "str_1=\"It's always darkest before dawn.\""
   ]
  },
  {
   "cell_type": "code",
   "execution_count": null,
   "id": "980ff643",
   "metadata": {},
   "outputs": [],
   "source": [
    "# Make the string so that everything is properly and first letter is capital with one function.\n",
    "\n",
    "str_2=\"there are no traffic JamS Along The extra mile.\""
   ]
  },
  {
   "cell_type": "code",
   "execution_count": null,
   "id": "a44f3bdd",
   "metadata": {},
   "outputs": [],
   "source": [
    "# Does the string start with an A?\n",
    "\n",
    "str_3=\"There are no traffic jams along the extra mile.\""
   ]
  },
  {
   "cell_type": "code",
   "execution_count": null,
   "id": "5454da2f",
   "metadata": {},
   "outputs": [],
   "source": [
    "# Which character occur more often in the string? \"a\" or \"o\" ? Print both counts inside the print function.\n",
    "\n",
    "str_4=\"People often say that motivation doesn't last. Well, neither does bathing.  That's why we recommend it daily.\"\n",
    "\n",
    "ans_1=\n",
    "ans_2="
   ]
  },
  {
   "cell_type": "markdown",
   "id": "e27a8c6d",
   "metadata": {},
   "source": [
    "-------------------------------------------------- End -----------------------------------------------"
   ]
  },
  {
   "cell_type": "code",
   "execution_count": null,
   "id": "e13ee747",
   "metadata": {},
   "outputs": [],
   "source": []
  }
 ],
 "metadata": {
  "kernelspec": {
   "display_name": "Python 3 (ipykernel)",
   "language": "python",
   "name": "python3"
  },
  "language_info": {
   "codemirror_mode": {
    "name": "ipython",
    "version": 3
   },
   "file_extension": ".py",
   "mimetype": "text/x-python",
   "name": "python",
   "nbconvert_exporter": "python",
   "pygments_lexer": "ipython3",
   "version": "3.9.13"
  }
 },
 "nbformat": 4,
 "nbformat_minor": 5
}
