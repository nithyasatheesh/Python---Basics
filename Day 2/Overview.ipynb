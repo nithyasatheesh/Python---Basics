{
 "cells": [
  {
   "cell_type": "markdown",
   "id": "74acefbb",
   "metadata": {},
   "source": [
    "### Language Overview\n",
    "    \n",
    "           - Variables\n",
    "           \n",
    "           - statements & Expressions\n",
    "           \n",
    "           - whitespace & comments\n",
    "                           \n",
    "\n",
    "### Types and Values\n",
    "\n",
    "           - Data Types\n",
    "           \n",
    "           - user input & output\n",
    "    \n",
    "           - type() & id()"
   ]
  },
  {
   "cell_type": "markdown",
   "id": "4bce987d",
   "metadata": {},
   "source": [
    "#### Variables"
   ]
  },
  {
   "cell_type": "code",
   "execution_count": null,
   "id": "5761022e",
   "metadata": {},
   "outputs": [],
   "source": [
    "### Creata a variable\n"
   ]
  },
  {
   "cell_type": "code",
   "execution_count": null,
   "id": "3b5089d5",
   "metadata": {},
   "outputs": [],
   "source": [
    "### Type of variable\n"
   ]
  },
  {
   "cell_type": "code",
   "execution_count": null,
   "id": "ac75c4de",
   "metadata": {},
   "outputs": [],
   "source": [
    "### Assign multiple values to multiple variables\n"
   ]
  },
  {
   "cell_type": "code",
   "execution_count": null,
   "id": "c2dd17b3",
   "metadata": {},
   "outputs": [],
   "source": []
  },
  {
   "cell_type": "code",
   "execution_count": null,
   "id": "88c5ecc5",
   "metadata": {},
   "outputs": [],
   "source": [
    "### Assign same value to multiple variable\n"
   ]
  },
  {
   "cell_type": "code",
   "execution_count": null,
   "id": "51cc2294",
   "metadata": {},
   "outputs": [],
   "source": [
    "#python is case sensitive\n"
   ]
  },
  {
   "cell_type": "markdown",
   "id": "0284f775",
   "metadata": {},
   "source": [
    "#### Keywords & Constants"
   ]
  },
  {
   "cell_type": "markdown",
   "id": "0bf71d55",
   "metadata": {},
   "source": [
    "Keywords are the reserved words in Python.\n",
    "\n",
    "We cannot use a keyword as a variable name, function name or any other identifier. They are used to define the syntax and structure of the Python language."
   ]
  },
  {
   "cell_type": "markdown",
   "id": "ffd991ed",
   "metadata": {},
   "source": [
    "All the keywords except True, False and None are in lowercase and they must be written as they are.\n",
    "\n",
    "The list of all the keywords is given below.\n",
    "\n",
    "False\tawait\telse\timport\tpass\n",
    "\n",
    "None\tbreak\texcept\tin\traise\n",
    "\n",
    "True\tclass\tfinally\tis\treturn\n",
    "\n",
    "and\tcontinue\tfor\tlambda\ttry\n",
    "\n",
    "as\tdef\tfrom\tnonlocal\twhile\n",
    "\n",
    "assert\tdel\tglobal\tnot\twith\n",
    "\n",
    "async\telif\tif\tor\tyield\n"
   ]
  },
  {
   "cell_type": "markdown",
   "id": "183ba99f",
   "metadata": {},
   "source": [
    "An identifier is a name given to entities like class, functions, variables, etc. It helps to differentiate one entity from another.\n",
    "Rules for writing identifiers\n",
    "\n",
    "Identifiers can be a combination of letters in lowercase (a to z) or uppercase (A to Z) or digits (0 to 9) or an underscore _. Names like myClass, var_1 and print_this_to_screen, all are valid example.\n",
    "\n",
    "An identifier cannot start with a digit. 1variable is invalid, but variable1 is a valid name.\n",
    "\n",
    "Keywords cannot be used as identifiers."
   ]
  },
  {
   "cell_type": "code",
   "execution_count": null,
   "id": "55be0ee0",
   "metadata": {},
   "outputs": [],
   "source": []
  },
  {
   "cell_type": "markdown",
   "id": "519bb05e",
   "metadata": {},
   "source": [
    "A constant is a type of variable whose value cannot be changed."
   ]
  },
  {
   "cell_type": "code",
   "execution_count": null,
   "id": "84e52eab",
   "metadata": {},
   "outputs": [],
   "source": [
    "# pi=3.14"
   ]
  },
  {
   "cell_type": "markdown",
   "id": "a415699c",
   "metadata": {},
   "source": [
    "#### Statements and Expressions"
   ]
  },
  {
   "cell_type": "markdown",
   "id": "bb17b285",
   "metadata": {},
   "source": [
    "An Expression is a sequence or combination of values, variables, operators and function calls that always produces or returns a result value.\n",
    "– An Expression always evaluates (calculate) to itself."
   ]
  },
  {
   "cell_type": "markdown",
   "id": "8f04b5e9",
   "metadata": {},
   "source": [
    "x = 5, y = 3, z = x + y\n",
    "In the above example x, y and z are variables, 5 and 3 are values, = and + are operators.\n",
    "\n",
    "So, the first combination x = 5 is an expression, the second combination y = 3 is an another expression and at last, z = x + y is also an expression."
   ]
  },
  {
   "cell_type": "markdown",
   "id": "11ca2032",
   "metadata": {},
   "source": [
    "Any Instruction that a python interpreter can execute (carry out) is called a Statement."
   ]
  },
  {
   "cell_type": "markdown",
   "id": "27e7fcf7",
   "metadata": {},
   "source": [
    "Each and every line or a sentence in any programming language is called an instruction.\n",
    "In simple words – A Statement is the smallest executable unit of code that has an effect, like creating a variable or displaying a value.\n",
    "Each and every line of code that we write in any programming language is called a statement"
   ]
  },
  {
   "cell_type": "raw",
   "id": "80ee9151",
   "metadata": {},
   "source": [
    "Difference between Expressions and Statements in Python:\n",
    "\n",
    "Expression\t  \n",
    "\n",
    "                                                                    Statement\n",
    "                                                                    \n",
    "An expression evaluates to a value\t                          A statement executes something\n",
    "The evaluation of a statement does not changes state\t      The execution of a statement changes state\n",
    "Evaluation of an expression always Produces or returns\n",
    "a result value.\t                                              Execution of a statement may or may not produces or displays a                                                                 result value, it only does whatever the statement says.\n",
    "Every expression can’t be a statement.\t                      Every statement can be an expression.\n",
    "\n",
    "Example: >>> a + 16\n",
    ">>> 20\t                                                      Example:  >>> x = 3\n",
    "                                                               >>> print(x)\n",
    "\n",
    "                                                                 Output: 3"
   ]
  },
  {
   "cell_type": "markdown",
   "id": "ff734e94",
   "metadata": {},
   "source": [
    "#### Whitespace & Comment"
   ]
  },
  {
   "cell_type": "markdown",
   "id": "7a7dc2f2",
   "metadata": {},
   "source": [
    "Indentation: A code block (body of a function, loop, etc.) starts with indentation.\n",
    "Generally, four whitespaces are used for indentation and are preferred over tabs.\n",
    "\n",
    "Comment: A Python comment is a line of text that appears in a program but is not executed by the program."
   ]
  },
  {
   "cell_type": "markdown",
   "id": "fb0c3be7",
   "metadata": {},
   "source": [
    "Single line comments: Python single-line comment starts with a hashtag symbol with no white spaces (#) and lasts till the end of the line. If the comment exceeds one line then put a hashtag on the next line and continue the comment.\n",
    "Multi-line string as a comment: Python multi-line comment is a piece of text enclosed in a delimiter (“””) on each end of the comment. Again there should be no white space between delimiter (“””)."
   ]
  },
  {
   "cell_type": "code",
   "execution_count": null,
   "id": "148163ee",
   "metadata": {},
   "outputs": [],
   "source": [
    "# variable declaration\n"
   ]
  },
  {
   "cell_type": "code",
   "execution_count": null,
   "id": "55124b95",
   "metadata": {},
   "outputs": [],
   "source": [
    "#multi-line comment"
   ]
  },
  {
   "cell_type": "markdown",
   "id": "4a612851",
   "metadata": {},
   "source": [
    "- numeric (int,float)\n",
    "\n",
    "- bool\n",
    "\n",
    "- complex\n",
    "\n",
    "- string\n"
   ]
  },
  {
   "cell_type": "code",
   "execution_count": null,
   "id": "e818ec02",
   "metadata": {},
   "outputs": [],
   "source": [
    "### int\n"
   ]
  },
  {
   "cell_type": "code",
   "execution_count": null,
   "id": "206da9f7",
   "metadata": {},
   "outputs": [],
   "source": [
    "# type of a variable\n"
   ]
  },
  {
   "cell_type": "code",
   "execution_count": null,
   "id": "d5510c21",
   "metadata": {},
   "outputs": [],
   "source": [
    "# output\n"
   ]
  },
  {
   "cell_type": "code",
   "execution_count": null,
   "id": "29d09fb5",
   "metadata": {},
   "outputs": [],
   "source": [
    "### float\n"
   ]
  },
  {
   "cell_type": "code",
   "execution_count": null,
   "id": "ca20b017",
   "metadata": {},
   "outputs": [],
   "source": [
    "#type of a variable\n"
   ]
  },
  {
   "cell_type": "code",
   "execution_count": null,
   "id": "4a114d10",
   "metadata": {},
   "outputs": [],
   "source": [
    "#output\n"
   ]
  },
  {
   "cell_type": "code",
   "execution_count": null,
   "id": "7ac5980b",
   "metadata": {},
   "outputs": [],
   "source": [
    "### bool\n"
   ]
  },
  {
   "cell_type": "code",
   "execution_count": null,
   "id": "a55a00e8",
   "metadata": {},
   "outputs": [],
   "source": [
    "#type of a variable\n"
   ]
  },
  {
   "cell_type": "code",
   "execution_count": null,
   "id": "b7a664e7",
   "metadata": {},
   "outputs": [],
   "source": [
    "# output\n"
   ]
  },
  {
   "cell_type": "code",
   "execution_count": null,
   "id": "f52c6e89",
   "metadata": {},
   "outputs": [],
   "source": [
    "### complex\n"
   ]
  },
  {
   "cell_type": "code",
   "execution_count": null,
   "id": "7b9765e0",
   "metadata": {},
   "outputs": [],
   "source": [
    "#type\n"
   ]
  },
  {
   "cell_type": "code",
   "execution_count": null,
   "id": "ed7bd84a",
   "metadata": {},
   "outputs": [],
   "source": [
    "#output\n"
   ]
  },
  {
   "cell_type": "code",
   "execution_count": null,
   "id": "ae67a230",
   "metadata": {},
   "outputs": [],
   "source": [
    "### string\n"
   ]
  },
  {
   "cell_type": "code",
   "execution_count": null,
   "id": "b1456063",
   "metadata": {},
   "outputs": [],
   "source": [
    "# type\n"
   ]
  },
  {
   "cell_type": "code",
   "execution_count": null,
   "id": "4468524e",
   "metadata": {},
   "outputs": [],
   "source": [
    "# output\n"
   ]
  },
  {
   "cell_type": "code",
   "execution_count": null,
   "id": "c1028cb8",
   "metadata": {},
   "outputs": [],
   "source": [
    "# case sensitive\n"
   ]
  },
  {
   "cell_type": "code",
   "execution_count": null,
   "id": "0b2a96a2",
   "metadata": {},
   "outputs": [],
   "source": []
  },
  {
   "cell_type": "code",
   "execution_count": null,
   "id": "9aa3df85",
   "metadata": {},
   "outputs": [],
   "source": [
    "# different formats to display output\n"
   ]
  },
  {
   "cell_type": "code",
   "execution_count": null,
   "id": "0c05013e",
   "metadata": {},
   "outputs": [],
   "source": []
  },
  {
   "cell_type": "code",
   "execution_count": null,
   "id": "7d1930fa",
   "metadata": {},
   "outputs": [],
   "source": []
  },
  {
   "cell_type": "code",
   "execution_count": null,
   "id": "65aa2bdc",
   "metadata": {},
   "outputs": [],
   "source": []
  },
  {
   "cell_type": "code",
   "execution_count": null,
   "id": "dabee1ec",
   "metadata": {},
   "outputs": [],
   "source": []
  },
  {
   "cell_type": "code",
   "execution_count": null,
   "id": "1babd789",
   "metadata": {},
   "outputs": [],
   "source": [
    "print(\"Welcome\")\n",
    "print(\"to all\")"
   ]
  },
  {
   "cell_type": "code",
   "execution_count": null,
   "id": "e6f6919a",
   "metadata": {},
   "outputs": [],
   "source": [
    "# output : Welcome to all --> using two print() functions."
   ]
  },
  {
   "cell_type": "code",
   "execution_count": null,
   "id": "a53698e4",
   "metadata": {},
   "outputs": [],
   "source": [
    "# with end parameter end =''\n"
   ]
  },
  {
   "cell_type": "code",
   "execution_count": null,
   "id": "5e01e829",
   "metadata": {},
   "outputs": [],
   "source": [
    "## user input \n",
    "## input() function\n"
   ]
  },
  {
   "cell_type": "code",
   "execution_count": null,
   "id": "fc59933a",
   "metadata": {},
   "outputs": [],
   "source": [
    "# type of a variable input1\n"
   ]
  },
  {
   "cell_type": "code",
   "execution_count": null,
   "id": "9dc85c97",
   "metadata": {},
   "outputs": [],
   "source": [
    "# Type casting\n"
   ]
  },
  {
   "cell_type": "code",
   "execution_count": null,
   "id": "3c2e288e",
   "metadata": {},
   "outputs": [],
   "source": []
  },
  {
   "cell_type": "code",
   "execution_count": null,
   "id": "5991fdff",
   "metadata": {},
   "outputs": [],
   "source": []
  },
  {
   "cell_type": "code",
   "execution_count": null,
   "id": "d7f34566",
   "metadata": {},
   "outputs": [],
   "source": []
  },
  {
   "cell_type": "code",
   "execution_count": null,
   "id": "6830e81c",
   "metadata": {},
   "outputs": [],
   "source": []
  },
  {
   "cell_type": "code",
   "execution_count": null,
   "id": "0fc2a4ba",
   "metadata": {},
   "outputs": [],
   "source": [
    "## multiple inputs\n"
   ]
  },
  {
   "cell_type": "code",
   "execution_count": null,
   "id": "a507c8d1",
   "metadata": {},
   "outputs": [],
   "source": [
    "# split() method to write multiple imputs in a single line\n"
   ]
  },
  {
   "cell_type": "code",
   "execution_count": null,
   "id": "43327fd9",
   "metadata": {},
   "outputs": [],
   "source": []
  },
  {
   "cell_type": "markdown",
   "id": "bde8b7b3",
   "metadata": {},
   "source": [
    "#### type() and id()"
   ]
  },
  {
   "cell_type": "markdown",
   "id": "d1852bc8",
   "metadata": {},
   "source": [
    "The id() function returns a unique id for the specified object.\n",
    "\n",
    "All objects in Python has its own unique id.\n",
    "\n",
    "The id is assigned to the object when it is created.\n",
    "###### syntax: id(object)"
   ]
  },
  {
   "cell_type": "markdown",
   "id": "e0b82a32",
   "metadata": {},
   "source": [
    "id() function returns the identity of the object. type() function returns the type of the object"
   ]
  },
  {
   "cell_type": "code",
   "execution_count": null,
   "id": "9cf492d1",
   "metadata": {},
   "outputs": [],
   "source": []
  },
  {
   "cell_type": "code",
   "execution_count": null,
   "id": "795f2ee1",
   "metadata": {},
   "outputs": [],
   "source": []
  },
  {
   "cell_type": "markdown",
   "id": "8856c9a6",
   "metadata": {},
   "source": [
    "### Hands-on -Practice"
   ]
  },
  {
   "cell_type": "raw",
   "id": "894f009b",
   "metadata": {},
   "source": [
    "Accept numbers from a user"
   ]
  },
  {
   "cell_type": "raw",
   "id": "9463212b",
   "metadata": {},
   "source": [
    "Display float number with 2 decimal places using print()"
   ]
  },
  {
   "cell_type": "markdown",
   "id": "6fb1d8b5",
   "metadata": {},
   "source": [
    "Accept 2 float numbers as an input from the user"
   ]
  },
  {
   "cell_type": "markdown",
   "id": "3e143e13",
   "metadata": {},
   "source": [
    "Accept any three string values from one input() call "
   ]
  },
  {
   "cell_type": "raw",
   "id": "26bb3dcf",
   "metadata": {},
   "source": [
    "Create a variable named carname and assign the value Volvo to it."
   ]
  },
  {
   "cell_type": "raw",
   "id": "1402b358",
   "metadata": {},
   "source": [
    "Get two inputs in a single line by using user input function"
   ]
  },
  {
   "cell_type": "raw",
   "id": "59090eb3",
   "metadata": {},
   "source": [
    "Make a Python program that prints your name."
   ]
  },
  {
   "cell_type": "raw",
   "id": "8175cf09",
   "metadata": {},
   "source": [
    "Get string object '123' from user input function and add value 1."
   ]
  },
  {
   "cell_type": "raw",
   "id": "2c159e76",
   "metadata": {},
   "source": [
    "Make a program that asks the users preferred programming language."
   ]
  }
 ],
 "metadata": {
  "kernelspec": {
   "display_name": "Python 3 (ipykernel)",
   "language": "python",
   "name": "python3"
  },
  "language_info": {
   "codemirror_mode": {
    "name": "ipython",
    "version": 3
   },
   "file_extension": ".py",
   "mimetype": "text/x-python",
   "name": "python",
   "nbconvert_exporter": "python",
   "pygments_lexer": "ipython3",
   "version": "3.9.13"
  }
 },
 "nbformat": 4,
 "nbformat_minor": 5
}
