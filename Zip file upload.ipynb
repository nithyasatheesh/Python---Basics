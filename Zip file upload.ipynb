{
 "cells": [
  {
   "cell_type": "code",
   "execution_count": 3,
   "id": "6418db98",
   "metadata": {},
   "outputs": [],
   "source": [
    "# to upload a zip file in the jupyter notebook\n",
    "import zipfile as zf\n",
    "\n",
    "files=zf.ZipFile(\"C://Users//nithyalakshmim//Downloads//Python-main.zip\",'r')\n",
    "# at the place of zipped folder write your folder name\n",
    "\n",
    "files.extractall(\"Directory to extract\")\n",
    "#at the place of directory to extract, write a folder name which you want to store above folder\n",
    "\n",
    "files.close()"
   ]
  }
 ],
 "metadata": {
  "kernelspec": {
   "display_name": "Python 3 (ipykernel)",
   "language": "python",
   "name": "python3"
  },
  "language_info": {
   "codemirror_mode": {
    "name": "ipython",
    "version": 3
   },
   "file_extension": ".py",
   "mimetype": "text/x-python",
   "name": "python",
   "nbconvert_exporter": "python",
   "pygments_lexer": "ipython3",
   "version": "3.9.13"
  }
 },
 "nbformat": 4,
 "nbformat_minor": 5
}
