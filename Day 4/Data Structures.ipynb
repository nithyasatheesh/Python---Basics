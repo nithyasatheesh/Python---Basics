{
 "cells": [
  {
   "cell_type": "markdown",
   "id": "1a80b102",
   "metadata": {},
   "source": [
    "### Data Structures\n",
    "\n",
    "         - Lists\n",
    "    \n",
    "         - Tuple\n",
    "        \n",
    "         - Dictionary\n",
    "            \n",
    "         - Set\n",
    "        \n",
    "### List Comprehension"
   ]
  },
  {
   "cell_type": "markdown",
   "id": "42c2e01d",
   "metadata": {},
   "source": [
    "#### Data Structures in Python\n",
    "##### Lists"
   ]
  },
  {
   "cell_type": "code",
   "execution_count": null,
   "id": "8371ad4b",
   "metadata": {},
   "outputs": [],
   "source": [
    "An ordered sequence of values enclosed within [ ].\n",
    "\n",
    "- List can be created by [] or list()\n",
    "\n",
    "- Lists are mutable : Can do changes\n",
    "\n",
    "-  List can contain multiple data types\n",
    "\n",
    "- Lists are iterables"
   ]
  },
  {
   "cell_type": "code",
   "execution_count": null,
   "id": "93500aaa",
   "metadata": {},
   "outputs": [],
   "source": [
    "# Create an empty list\n"
   ]
  },
  {
   "cell_type": "code",
   "execution_count": null,
   "id": "3ed6bde9",
   "metadata": {},
   "outputs": [],
   "source": [
    "#type"
   ]
  },
  {
   "cell_type": "code",
   "execution_count": null,
   "id": "9d2cc50f",
   "metadata": {},
   "outputs": [],
   "source": [
    "# create a list with int data types\n"
   ]
  },
  {
   "cell_type": "code",
   "execution_count": null,
   "id": "139194c1",
   "metadata": {},
   "outputs": [],
   "source": [
    "# create a list with string data type \n"
   ]
  },
  {
   "cell_type": "code",
   "execution_count": null,
   "id": "77d50381",
   "metadata": {},
   "outputs": [],
   "source": [
    "# create a list with mixed data types\n"
   ]
  },
  {
   "cell_type": "code",
   "execution_count": null,
   "id": "6872b83d",
   "metadata": {},
   "outputs": [],
   "source": [
    "# Lists are mutable\n",
    "# change the value '5' into '0' in the list ls3\n",
    "ls3=[5,6.5,'age',True]\n",
    "ls3"
   ]
  },
  {
   "cell_type": "code",
   "execution_count": null,
   "id": "400fe506",
   "metadata": {},
   "outputs": [],
   "source": []
  },
  {
   "cell_type": "code",
   "execution_count": null,
   "id": "56313591",
   "metadata": {},
   "outputs": [],
   "source": [
    "# Extract 'age' from the list ls3\n"
   ]
  },
  {
   "cell_type": "code",
   "execution_count": null,
   "id": "18c666d3",
   "metadata": {},
   "outputs": [],
   "source": [
    "# Extract 'e'  from the list ls3\n"
   ]
  },
  {
   "cell_type": "code",
   "execution_count": null,
   "id": "ec42fa2a",
   "metadata": {},
   "outputs": [],
   "source": [
    "# Extract 'age',True from the list ls3\n"
   ]
  },
  {
   "cell_type": "code",
   "execution_count": null,
   "id": "37b8bc0b",
   "metadata": {},
   "outputs": [],
   "source": []
  },
  {
   "cell_type": "code",
   "execution_count": null,
   "id": "21a8653f",
   "metadata": {},
   "outputs": [],
   "source": [
    "ls4= [25,31,[3,4],-5]\n",
    "# extract [3,4] from the list ls4.\n"
   ]
  },
  {
   "cell_type": "code",
   "execution_count": null,
   "id": "3d7e4da5",
   "metadata": {},
   "outputs": [],
   "source": [
    "first=[2,34,5,[56,81,[43,89],67],10]\n",
    "# extract [43,89]\n"
   ]
  },
  {
   "cell_type": "code",
   "execution_count": null,
   "id": "1b7ffbba",
   "metadata": {},
   "outputs": [],
   "source": [
    "# extract 89\n"
   ]
  },
  {
   "cell_type": "code",
   "execution_count": null,
   "id": "dd9122e1",
   "metadata": {},
   "outputs": [],
   "source": [
    "print(dir(first))"
   ]
  },
  {
   "cell_type": "code",
   "execution_count": null,
   "id": "e10665e6",
   "metadata": {},
   "outputs": [],
   "source": [
    "#extend\n",
    "newlist1=[1,2,3]\n",
    "newlist2=[5,6]\n"
   ]
  },
  {
   "cell_type": "code",
   "execution_count": null,
   "id": "14698a94",
   "metadata": {},
   "outputs": [],
   "source": [
    "# append\n",
    "newlist3=[6,7,8]\n",
    "newlist4=[9,10]\n"
   ]
  },
  {
   "cell_type": "code",
   "execution_count": null,
   "id": "c878f8a4",
   "metadata": {},
   "outputs": [],
   "source": [
    "# insert\n",
    "#syntax: listobject.insert(index,value)\n"
   ]
  },
  {
   "cell_type": "code",
   "execution_count": null,
   "id": "180dd055",
   "metadata": {},
   "outputs": [],
   "source": [
    "#pop\n",
    "# listobject.pop(index) \n",
    "# list object.pop()--> removes last element in the list"
   ]
  },
  {
   "cell_type": "code",
   "execution_count": null,
   "id": "e71bd95a",
   "metadata": {},
   "outputs": [],
   "source": []
  },
  {
   "cell_type": "code",
   "execution_count": null,
   "id": "061feb1f",
   "metadata": {},
   "outputs": [],
   "source": [
    "## remove \n",
    "# syntax: listobject.remove(value)\n",
    "list_1=[1,2,'hi','wel',8]"
   ]
  },
  {
   "cell_type": "code",
   "execution_count": null,
   "id": "15455797",
   "metadata": {},
   "outputs": [],
   "source": []
  },
  {
   "cell_type": "code",
   "execution_count": null,
   "id": "272e4cc4",
   "metadata": {},
   "outputs": [],
   "source": [
    "first=[2,34,5,[56,81,[43,89],67],10,59,57]"
   ]
  },
  {
   "cell_type": "code",
   "execution_count": null,
   "id": "08d293f4",
   "metadata": {},
   "outputs": [],
   "source": [
    "#remove 81"
   ]
  },
  {
   "cell_type": "code",
   "execution_count": null,
   "id": "38efeb06",
   "metadata": {},
   "outputs": [],
   "source": [
    "#del\n",
    "#remove elements from the list : remove 81\n"
   ]
  },
  {
   "cell_type": "code",
   "execution_count": null,
   "id": "9172b1eb",
   "metadata": {},
   "outputs": [],
   "source": [
    "# remove 43\n"
   ]
  },
  {
   "cell_type": "code",
   "execution_count": null,
   "id": "7a63652c",
   "metadata": {},
   "outputs": [],
   "source": []
  },
  {
   "cell_type": "code",
   "execution_count": null,
   "id": "81b8a346",
   "metadata": {},
   "outputs": [],
   "source": [
    "# remove the values 34 & 5.\n",
    "first1= [2, 34, 5, 56,[[89], 67], 10, 59, 57]\n"
   ]
  },
  {
   "cell_type": "code",
   "execution_count": null,
   "id": "a57bcb43",
   "metadata": {},
   "outputs": [],
   "source": [
    "# remove the values 2 and 10 (first1)"
   ]
  },
  {
   "cell_type": "code",
   "execution_count": null,
   "id": "f3701490",
   "metadata": {},
   "outputs": [],
   "source": []
  },
  {
   "cell_type": "code",
   "execution_count": null,
   "id": "08b87b53",
   "metadata": {},
   "outputs": [],
   "source": [
    "# reverse\n",
    "# syntax: list object.reverse()\n",
    "list1 = [1, 2, 3, 4, 1, 2, 6]\n"
   ]
  },
  {
   "cell_type": "code",
   "execution_count": null,
   "id": "5545b321",
   "metadata": {},
   "outputs": [],
   "source": []
  },
  {
   "cell_type": "code",
   "execution_count": null,
   "id": "900b4ded",
   "metadata": {},
   "outputs": [],
   "source": [
    "#index\n",
    "# returns the index of the element\n",
    "# list object.index(value)\n"
   ]
  },
  {
   "cell_type": "code",
   "execution_count": null,
   "id": "513faa70",
   "metadata": {},
   "outputs": [],
   "source": [
    "### Apply + * on list objects\n",
    "ls1=[12,23,12,45]\n",
    "ls2=[34,6,7,8]"
   ]
  },
  {
   "cell_type": "code",
   "execution_count": null,
   "id": "eb4f0435",
   "metadata": {},
   "outputs": [],
   "source": []
  },
  {
   "cell_type": "code",
   "execution_count": null,
   "id": "0d037364",
   "metadata": {},
   "outputs": [],
   "source": []
  },
  {
   "cell_type": "code",
   "execution_count": null,
   "id": "c4f15fc3",
   "metadata": {},
   "outputs": [],
   "source": [
    "# sort the list object in ascending order\n",
    "ls6=[12,4,78,2,9,54]"
   ]
  },
  {
   "cell_type": "code",
   "execution_count": null,
   "id": "184d7bd4",
   "metadata": {},
   "outputs": [],
   "source": [
    "# sorted() function\n"
   ]
  },
  {
   "cell_type": "code",
   "execution_count": null,
   "id": "09927a0a",
   "metadata": {},
   "outputs": [],
   "source": []
  },
  {
   "cell_type": "code",
   "execution_count": null,
   "id": "8cb27675",
   "metadata": {},
   "outputs": [],
   "source": [
    "# sort() method\n"
   ]
  },
  {
   "cell_type": "code",
   "execution_count": null,
   "id": "e797fb3d",
   "metadata": {},
   "outputs": [],
   "source": []
  },
  {
   "cell_type": "code",
   "execution_count": null,
   "id": "3a4702cb",
   "metadata": {},
   "outputs": [],
   "source": [
    "#descending order\n"
   ]
  },
  {
   "cell_type": "code",
   "execution_count": null,
   "id": "85ba673d",
   "metadata": {},
   "outputs": [],
   "source": [
    "# Copy one list from the other list (or) creating a list from existing list by using '=' (or) copy() method\n",
    "ls9=[1,2,5,2,1,3,2,10]\n",
    "#create newlist from ls9."
   ]
  },
  {
   "cell_type": "code",
   "execution_count": null,
   "id": "620f4371",
   "metadata": {},
   "outputs": [],
   "source": []
  },
  {
   "cell_type": "code",
   "execution_count": null,
   "id": "77440f90",
   "metadata": {},
   "outputs": [],
   "source": [
    "# do changes on original list ls9\n"
   ]
  },
  {
   "cell_type": "code",
   "execution_count": null,
   "id": "f0af2028",
   "metadata": {},
   "outputs": [],
   "source": [
    "#split method\n",
    "dt='12-08-2022'\n"
   ]
  },
  {
   "cell_type": "code",
   "execution_count": null,
   "id": "2de11eb6",
   "metadata": {},
   "outputs": [],
   "source": [
    "# loop\n"
   ]
  },
  {
   "cell_type": "code",
   "execution_count": null,
   "id": "081bc98d",
   "metadata": {},
   "outputs": [],
   "source": [
    "#List comprehension\n",
    "# one line expression of for loop"
   ]
  },
  {
   "cell_type": "code",
   "execution_count": null,
   "id": "11ebb6fb",
   "metadata": {},
   "outputs": [],
   "source": [
    "a=[1,2,3,4]\n",
    "#list of square of elements of a\n",
    "#for loop\n"
   ]
  },
  {
   "cell_type": "code",
   "execution_count": null,
   "id": "b41d298d",
   "metadata": {},
   "outputs": [],
   "source": [
    "#list comprehension : syntax: [expression for if]\n"
   ]
  },
  {
   "cell_type": "code",
   "execution_count": null,
   "id": "7902a055",
   "metadata": {},
   "outputs": [],
   "source": [
    "cities=['Delhi','Pune','Chennai','Bangalore','Hyd']\n",
    "# create a list of elements which has length is greater than 6.\n"
   ]
  },
  {
   "cell_type": "code",
   "execution_count": null,
   "id": "587102a5",
   "metadata": {},
   "outputs": [],
   "source": [
    "L=[4,7,8,9]\n",
    "# Add value 5 to each element in the list\n"
   ]
  },
  {
   "cell_type": "code",
   "execution_count": null,
   "id": "74134009",
   "metadata": {},
   "outputs": [],
   "source": [
    "# Create a list of elements which is greater than 5 in the given list L\n"
   ]
  },
  {
   "cell_type": "code",
   "execution_count": null,
   "id": "c1a94998",
   "metadata": {},
   "outputs": [],
   "source": [
    "# Addition of two lists L1 and L2 (adding elements in the lists)\n",
    "L1=[3,4,5,6]\n",
    "L2=[1,3,5,8]"
   ]
  },
  {
   "cell_type": "code",
   "execution_count": null,
   "id": "04ed4b7f",
   "metadata": {},
   "outputs": [],
   "source": [
    "# for loop\n"
   ]
  },
  {
   "cell_type": "code",
   "execution_count": null,
   "id": "3517c28c",
   "metadata": {},
   "outputs": [],
   "source": []
  },
  {
   "cell_type": "markdown",
   "id": "68ce9949",
   "metadata": {},
   "source": [
    "### Tuple\n",
    "\n",
    "- A tuple is a sequence of items\n",
    "- tuple is created by using () or tuple()\n",
    "- tuple contains mixed data type\n",
    "- tuples are immutable\n",
    "- tuples are iterable"
   ]
  },
  {
   "cell_type": "code",
   "execution_count": null,
   "id": "79692679",
   "metadata": {},
   "outputs": [],
   "source": [
    "# empty tuple object\n",
    "\n"
   ]
  },
  {
   "cell_type": "code",
   "execution_count": null,
   "id": "01c38572",
   "metadata": {},
   "outputs": [],
   "source": [
    "#type"
   ]
  },
  {
   "cell_type": "code",
   "execution_count": null,
   "id": "53f28503",
   "metadata": {},
   "outputs": [],
   "source": [
    "# create a tuple with elements\n"
   ]
  },
  {
   "cell_type": "code",
   "execution_count": null,
   "id": "fe19c1eb",
   "metadata": {},
   "outputs": [],
   "source": [
    "# extract '4' from t3\n"
   ]
  },
  {
   "cell_type": "code",
   "execution_count": null,
   "id": "b5ffc49f",
   "metadata": {},
   "outputs": [],
   "source": [
    "# immutable\n"
   ]
  },
  {
   "cell_type": "code",
   "execution_count": null,
   "id": "ed17f488",
   "metadata": {},
   "outputs": [],
   "source": [
    "# convert tuple object into list object\n"
   ]
  },
  {
   "cell_type": "code",
   "execution_count": null,
   "id": "0f8d08ab",
   "metadata": {},
   "outputs": [],
   "source": []
  },
  {
   "cell_type": "code",
   "execution_count": null,
   "id": "442a9307",
   "metadata": {},
   "outputs": [],
   "source": []
  },
  {
   "cell_type": "code",
   "execution_count": null,
   "id": "8a1c8163",
   "metadata": {},
   "outputs": [],
   "source": []
  },
  {
   "cell_type": "code",
   "execution_count": null,
   "id": "4e887619",
   "metadata": {},
   "outputs": [],
   "source": [
    "#for loop\n"
   ]
  },
  {
   "cell_type": "code",
   "execution_count": null,
   "id": "6379e981",
   "metadata": {},
   "outputs": [],
   "source": []
  },
  {
   "cell_type": "code",
   "execution_count": null,
   "id": "5e523e9d",
   "metadata": {},
   "outputs": [],
   "source": [
    "### Dictionary\n",
    "- A collection of unordered set of key:value pairs.\n",
    "\n",
    "- Create dictionaries by using {} or dict()\n",
    "\n",
    "- Keys are unique.\n",
    "\n",
    "- values are accessed by using keys, not by index\n",
    "\n",
    "- Dictionaries are mutable.\n",
    "\n",
    "- Dicitonaries are iterables."
   ]
  },
  {
   "cell_type": "code",
   "execution_count": null,
   "id": "943bd3dc",
   "metadata": {},
   "outputs": [],
   "source": [
    "# empty dict:\n"
   ]
  },
  {
   "cell_type": "code",
   "execution_count": null,
   "id": "4501ec02",
   "metadata": {},
   "outputs": [],
   "source": [
    "#type"
   ]
  },
  {
   "cell_type": "code",
   "execution_count": null,
   "id": "9e6efeb8",
   "metadata": {},
   "outputs": [],
   "source": [
    "# create dict of integer values\n"
   ]
  },
  {
   "cell_type": "code",
   "execution_count": null,
   "id": "49b3a49d",
   "metadata": {},
   "outputs": [],
   "source": [
    "# create  dict of strings values\n"
   ]
  },
  {
   "cell_type": "code",
   "execution_count": null,
   "id": "bf07a54c",
   "metadata": {},
   "outputs": [],
   "source": [
    "# create dict of mixed data types"
   ]
  },
  {
   "cell_type": "code",
   "execution_count": null,
   "id": "c125613b",
   "metadata": {},
   "outputs": [],
   "source": []
  },
  {
   "cell_type": "code",
   "execution_count": null,
   "id": "9bb8ac28",
   "metadata": {},
   "outputs": [],
   "source": [
    "#keys"
   ]
  },
  {
   "cell_type": "code",
   "execution_count": null,
   "id": "4e58a937",
   "metadata": {},
   "outputs": [],
   "source": [
    "#values"
   ]
  },
  {
   "cell_type": "code",
   "execution_count": null,
   "id": "afec7e0b",
   "metadata": {},
   "outputs": [],
   "source": [
    "#items"
   ]
  },
  {
   "cell_type": "code",
   "execution_count": null,
   "id": "7226655e",
   "metadata": {},
   "outputs": [],
   "source": [
    "d4={'first':[5,6,7],'second':[\"a\",\"b\"],'third':(7,8,0),'fourth':\"hello\"}\n",
    "#extract [5,6,7] from d4.\n"
   ]
  },
  {
   "cell_type": "code",
   "execution_count": null,
   "id": "ad4f8fef",
   "metadata": {},
   "outputs": [],
   "source": []
  },
  {
   "cell_type": "code",
   "execution_count": null,
   "id": "712417d1",
   "metadata": {},
   "outputs": [],
   "source": [
    "#extract 6\n"
   ]
  },
  {
   "cell_type": "code",
   "execution_count": null,
   "id": "45b22e8c",
   "metadata": {},
   "outputs": [],
   "source": [
    "#extract 'b'\n"
   ]
  },
  {
   "cell_type": "code",
   "execution_count": null,
   "id": "4f754e21",
   "metadata": {},
   "outputs": [],
   "source": [
    "d5={'one':{'el_one':[3,4,6,{'el_two':'z'}]}}\n",
    "# extract 'z'\n"
   ]
  },
  {
   "cell_type": "code",
   "execution_count": null,
   "id": "46e055bb",
   "metadata": {},
   "outputs": [],
   "source": [
    "d6={'new':[9,4,5,['split','merge',10]],'old':('s',17,0),'mid':{'ram':4,'ravi':8}}\n",
    "#Extract 'merge'\n"
   ]
  },
  {
   "cell_type": "code",
   "execution_count": null,
   "id": "b2f4db13",
   "metadata": {},
   "outputs": [],
   "source": [
    "#extract 8\n"
   ]
  },
  {
   "cell_type": "code",
   "execution_count": null,
   "id": "bb456050",
   "metadata": {},
   "outputs": [],
   "source": [
    "# for loop\n"
   ]
  },
  {
   "cell_type": "code",
   "execution_count": null,
   "id": "957948fa",
   "metadata": {},
   "outputs": [],
   "source": [
    "#mutable\n"
   ]
  },
  {
   "cell_type": "code",
   "execution_count": null,
   "id": "a900fbef",
   "metadata": {},
   "outputs": [],
   "source": [
    "# using pop() method to remove the values in the dictionary\n"
   ]
  },
  {
   "cell_type": "code",
   "execution_count": null,
   "id": "028e9407",
   "metadata": {},
   "outputs": [],
   "source": []
  },
  {
   "cell_type": "code",
   "execution_count": null,
   "id": "274945d4",
   "metadata": {},
   "outputs": [],
   "source": [
    "# replace a key name 'mid' into middle\n",
    "#d6['mid']='middle' # it will replace the values in the corresponding key."
   ]
  },
  {
   "cell_type": "code",
   "execution_count": null,
   "id": "8c85e5c2",
   "metadata": {},
   "outputs": [],
   "source": [
    "# using pop() method to rename the key names in the dictionary\n"
   ]
  },
  {
   "cell_type": "code",
   "execution_count": null,
   "id": "6005e347",
   "metadata": {},
   "outputs": [],
   "source": [
    "?d6.pop() # shift+tab "
   ]
  },
  {
   "cell_type": "markdown",
   "id": "82c269ab",
   "metadata": {},
   "source": [
    "### Sets\n",
    "- Unordered sequence of elements\n",
    "\n",
    "- create set objects by using {} or set()\n",
    "\n",
    "- sets are immutable\n",
    "\n",
    "- sets are iterables"
   ]
  },
  {
   "cell_type": "code",
   "execution_count": null,
   "id": "90c3cf9a",
   "metadata": {},
   "outputs": [],
   "source": [
    "#create a set\n",
    "# empty set\n"
   ]
  },
  {
   "cell_type": "code",
   "execution_count": null,
   "id": "b64ccae9",
   "metadata": {},
   "outputs": [],
   "source": [
    "# create a set object of string values\n"
   ]
  },
  {
   "cell_type": "code",
   "execution_count": null,
   "id": "5c4732f9",
   "metadata": {},
   "outputs": [],
   "source": [
    "# create a set object of list values\n"
   ]
  },
  {
   "cell_type": "code",
   "execution_count": null,
   "id": "d20a5af5",
   "metadata": {},
   "outputs": [],
   "source": [
    "#cannot do indexing and slicing "
   ]
  },
  {
   "cell_type": "code",
   "execution_count": null,
   "id": "e43060c9",
   "metadata": {},
   "outputs": [],
   "source": [
    "#immutable\n"
   ]
  },
  {
   "cell_type": "code",
   "execution_count": null,
   "id": "884d0f45",
   "metadata": {},
   "outputs": [],
   "source": [
    "print(dir(s4))"
   ]
  },
  {
   "cell_type": "code",
   "execution_count": null,
   "id": "c8190fe1",
   "metadata": {},
   "outputs": [],
   "source": [
    "# add element in the set s4.\n",
    "#object.add(value)"
   ]
  },
  {
   "cell_type": "code",
   "execution_count": null,
   "id": "1e3e42c4",
   "metadata": {},
   "outputs": [],
   "source": [
    "#update\n",
    "object.update([value1,value2,..])"
   ]
  },
  {
   "cell_type": "code",
   "execution_count": null,
   "id": "e9b69e4c",
   "metadata": {},
   "outputs": [],
   "source": [
    "# removing the items\n",
    "- remove()\n",
    "- pop()\n",
    "- discard()\n",
    "\n",
    "#discard() function if the item does not exist in the set then the set remain unchanged \n",
    "#whereas remove() method will through an error\n"
   ]
  },
  {
   "cell_type": "code",
   "execution_count": null,
   "id": "c71f106e",
   "metadata": {},
   "outputs": [],
   "source": [
    "#object.remove(value)"
   ]
  },
  {
   "cell_type": "code",
   "execution_count": null,
   "id": "84f06d0f",
   "metadata": {},
   "outputs": [],
   "source": [
    "#object.pop()"
   ]
  },
  {
   "cell_type": "code",
   "execution_count": null,
   "id": "a37b2b15",
   "metadata": {},
   "outputs": [],
   "source": [
    "#object.discard(value)"
   ]
  },
  {
   "cell_type": "markdown",
   "id": "4547c28e",
   "metadata": {},
   "source": [
    "### Set operations\n",
    "- Union\n",
    "\n",
    "- Intersection\n",
    "\n",
    "- Difference\n",
    "\n",
    "- Symmetric difference"
   ]
  },
  {
   "cell_type": "code",
   "execution_count": null,
   "id": "848ebfb4",
   "metadata": {},
   "outputs": [],
   "source": [
    "#union\n",
    "Days1={'Monday',\"Tuesday\",\"Wednesday\",\"Thursday\",\"Sunday\"}\n",
    "Days2={\"Friday\",\"Saturday\",\"Sunday\"}\n",
    "#object1.union(object2)"
   ]
  },
  {
   "cell_type": "code",
   "execution_count": null,
   "id": "21209f15",
   "metadata": {},
   "outputs": [],
   "source": [
    "#intersection\n",
    "#object1.intersection(object2)"
   ]
  },
  {
   "cell_type": "code",
   "execution_count": null,
   "id": "ffb58a07",
   "metadata": {},
   "outputs": [],
   "source": [
    "# difference\n",
    "# elements in one set which are all not in another set.\n",
    "A={10,20,30,40,50}\n",
    "B={100,30,50,40,60}\n",
    "#object1.difference(object2) # A-B"
   ]
  },
  {
   "cell_type": "code",
   "execution_count": null,
   "id": "42de055b",
   "metadata": {},
   "outputs": [],
   "source": []
  },
  {
   "cell_type": "code",
   "execution_count": null,
   "id": "60ef855b",
   "metadata": {},
   "outputs": [],
   "source": [
    "# Symmetric differnce\n",
    "#All the elements except intersection."
   ]
  },
  {
   "cell_type": "code",
   "execution_count": null,
   "id": "849fc8e5",
   "metadata": {},
   "outputs": [],
   "source": [
    "#object1.symmetric_difference(object2)"
   ]
  },
  {
   "cell_type": "code",
   "execution_count": null,
   "id": "53623187",
   "metadata": {},
   "outputs": [],
   "source": [
    "# for loop\n"
   ]
  },
  {
   "cell_type": "code",
   "execution_count": null,
   "id": "b6394772",
   "metadata": {},
   "outputs": [],
   "source": [
    "### map and filter function\n",
    "# find the square of elements in the list\n",
    "#map function: map square function\n",
    "b=[2,3,4]\n",
    "# map(fun,iterable)\n"
   ]
  },
  {
   "cell_type": "code",
   "execution_count": null,
   "id": "2acff138",
   "metadata": {},
   "outputs": [],
   "source": [
    "# filter function\n",
    "# filter the words from a list that dont start with the letter 's'\n",
    "seq=['soup','salad','food','great']\n"
   ]
  },
  {
   "cell_type": "code",
   "execution_count": null,
   "id": "d586692f",
   "metadata": {},
   "outputs": [],
   "source": [
    "# Set objects remove duplicates\n",
    "s=[1,2,4,2,5,3,3,7,7,7]\n",
    "set1=set(s)\n",
    "set1"
   ]
  },
  {
   "cell_type": "markdown",
   "id": "a12e6c04",
   "metadata": {},
   "source": [
    "--------------------------------------------------End--------------------------------------------------------------"
   ]
  }
 ],
 "metadata": {
  "kernelspec": {
   "display_name": "Python 3 (ipykernel)",
   "language": "python",
   "name": "python3"
  },
  "language_info": {
   "codemirror_mode": {
    "name": "ipython",
    "version": 3
   },
   "file_extension": ".py",
   "mimetype": "text/x-python",
   "name": "python",
   "nbconvert_exporter": "python",
   "pygments_lexer": "ipython3",
   "version": "3.9.13"
  }
 },
 "nbformat": 4,
 "nbformat_minor": 5
}
